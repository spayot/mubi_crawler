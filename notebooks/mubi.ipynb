{
 "cells": [
  {
   "cell_type": "code",
   "execution_count": 1,
   "metadata": {},
   "outputs": [],
   "source": [
    "import requests\n",
    "import json\n",
    "import sys\n",
    "\n",
    "import pandas as pd\n",
    "\n",
    "sys.path.append(\"../src\")\n",
    "\n",
    "%load_ext autoreload\n",
    "%autoreload 2\n",
    "\n",
    "from mubi import metacritic, mubi\n"
   ]
  },
  {
   "cell_type": "markdown",
   "metadata": {},
   "source": [
    "### TO DOs\n",
    "- [x] dataclass and parsing function for mubi API output: extract film names, genres, country  \n",
    "- [x] Mubi API calling class\n",
    "- [x] Metacritic dataclass and parsing function for metacritic autosearch call\n",
    "- [x] Metacritic Autosearch API calling class\n",
    "- [ ] replace prints by a logger\n",
    "- [ ] improve config management > set_path?\n"
   ]
  },
  {
   "cell_type": "code",
   "execution_count": 2,
   "metadata": {},
   "outputs": [],
   "source": [
    "movie = metacritic.MetaCriticMovie.from_title(\"Mr. Bachmann and His Class\")\n",
    "print(movie)"
   ]
  },
  {
   "cell_type": "code",
   "execution_count": 45,
   "metadata": {},
   "outputs": [],
   "source": [
    "collection_test = mubi.MubiCollection(name=\"Test Retest\", id=490)\n",
    "collection_test.movies = collection.movies[:3]\n",
    "collection_test.save()"
   ]
  },
  {
   "cell_type": "code",
   "execution_count": 55,
   "metadata": {},
   "outputs": [],
   "source": [
    "MUBI_FILM_GROUP_URL = \"https://api.mubi.com/v3/film_groups?size=40&offset=0\"\n",
    "\n",
    "r = requests.get(MUBI_FILM_GROUP_URL, headers=mubi._HEADERS)"
   ]
  },
  {
   "cell_type": "code",
   "execution_count": 92,
   "metadata": {},
   "outputs": [],
   "source": [
    "from pathlib import Path\n",
    "import pandas as pd\n",
    "\n",
    "path = Path(\"../data/20221030\")\n",
    "\n",
    "dfs = [pd.read_csv(file) for file in path.glob(\"*.csv\")]\n",
    "    \n",
    "df = (pd.concat(dfs)\n",
    "    .drop_duplicates(subset=[\"title\", \"year\"])\n",
    "    .sort_values(\"meta_score\", ascending=False)\n",
    ")\n",
    "\n",
    "df.to_csv(path / \"_mubi.csv\")"
   ]
  },
  {
   "cell_type": "code",
   "execution_count": 93,
   "metadata": {},
   "outputs": [],
   "source": [
    "app = mubi.MubiAllFilmGroups()"
   ]
  },
  {
   "cell_type": "code",
   "execution_count": 94,
   "metadata": {},
   "outputs": [],
   "source": [
    "app.consolidate_all_films(Path(\"../data\"))"
   ]
  }
 ],
 "metadata": {
  "kernelspec": {
   "display_name": "Python 3.9.10 ('base')",
   "language": "python",
   "name": "python3"
  },
  "language_info": {
   "codemirror_mode": {
    "name": "ipython",
    "version": 3
   },
   "file_extension": ".py",
   "mimetype": "text/x-python",
   "name": "python",
   "nbconvert_exporter": "python",
   "pygments_lexer": "ipython3",
   "version": "3.9.13"
  },
  "orig_nbformat": 4,
  "vscode": {
   "interpreter": {
    "hash": "c6e4e9f98eb68ad3b7c296f83d20e6de614cb42e90992a65aa266555a3137d0d"
   }
  }
 },
 "nbformat": 4,
 "nbformat_minor": 2
}
