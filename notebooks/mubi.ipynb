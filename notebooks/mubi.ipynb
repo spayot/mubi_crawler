{
 "cells": [
  {
   "cell_type": "code",
   "execution_count": 1,
   "metadata": {},
   "outputs": [],
   "source": [
    "import requests\n",
    "import json\n",
    "import sys\n",
    "\n",
    "import pandas as pd\n",
    "\n",
    "sys.path.append(\"../src\")\n",
    "\n",
    "%load_ext autoreload\n",
    "%autoreload 2\n",
    "\n",
    "from mubi import metacritic, mubi\n"
   ]
  },
  {
   "cell_type": "markdown",
   "metadata": {},
   "source": [
    "### TO DOs\n",
    "- [x] dataclass and parsing function for mubi API output: extract film names, genres, country  \n",
    "- [x] Mubi API calling class\n",
    "- [x] Metacritic dataclass and parsing function for metacritic autosearch call\n",
    "- [x] Metacritic Autosearch API calling class\n",
    "- [ ] replace prints by a logger\n",
    "- [ ] improve config management > set_path?\n"
   ]
  },
  {
   "cell_type": "code",
   "execution_count": 2,
   "metadata": {},
   "outputs": [],
   "source": [
    "movie = metacritic.MetaCriticMovie.from_title(\"Mr. Bachmann and His Class\")\n",
    "print(movie)"
   ]
  },
  {
   "cell_type": "code",
   "execution_count": 45,
   "metadata": {},
   "outputs": [],
   "source": [
    "collection_test = mubi.MubiCollection(name=\"Test Retest\", id=490)\n",
    "collection_test.movies = collection.movies[:3]\n",
    "collection_test.save()"
   ]
  },
  {
   "cell_type": "code",
   "execution_count": 55,
   "metadata": {},
   "outputs": [],
   "source": [
    "MUBI_FILM_GROUP_URL = \"https://api.mubi.com/v3/film_groups?size=40&offset=0\"\n",
    "\n",
    "r = requests.get(MUBI_FILM_GROUP_URL, headers=mubi._HEADERS)"
   ]
  },
  {
   "cell_type": "code",
   "execution_count": 92,
   "metadata": {},
   "outputs": [],
   "source": [
    "from pathlib import Path\n",
    "import pandas as pd\n",
    "\n",
    "path = Path(\"../data/20221030\")\n",
    "\n",
    "dfs = [pd.read_csv(file) for file in path.glob(\"*.csv\")]\n",
    "    \n",
    "df = (pd.concat(dfs)\n",
    "    .drop_duplicates(subset=[\"title\", \"year\"])\n",
    "    .sort_values(\"meta_score\", ascending=False)\n",
    ")\n",
    "\n",
    "df.to_csv(path / \"_mubi.csv\")"
   ]
  },
  {
   "cell_type": "code",
   "execution_count": 93,
   "metadata": {},
   "outputs": [],
   "source": [
    "app = mubi.MubiAllFilmGroups()"
   ]
  },
  {
   "cell_type": "code",
   "execution_count": 94,
   "metadata": {},
   "outputs": [],
   "source": [
    "app.consolidate_all_films(Path(\"../data\"))"
   ]
  },
  {
   "cell_type": "markdown",
   "metadata": {},
   "source": [
    "## What is the correlation between metacritic score and mubi rating"
   ]
  },
  {
   "cell_type": "code",
   "execution_count": 13,
   "metadata": {},
   "outputs": [
    {
     "data": {
      "image/png": "[encoded data removed]",
      "text/plain": [
       "<Figure size 432x288 with 1 Axes>"
      ]
     },
     "metadata": {
      "needs_background": "light"
     },
     "output_type": "display_data"
    }
   ],
   "source": [
    "import pandas as pd\n",
    "\n",
    "filepath = \"../data/20221208_mubi.csv\"\n",
    "\n",
    "df = pd.read_csv(filepath)\n",
    "\n",
    "fig = df.plot.scatter(\"critic_review_rating\", \"meta_score\")"
   ]
  }
 ],
 "metadata": {
  "kernelspec": {
   "display_name": "Python 3.9.7 ('base')",
   "language": "python",
   "name": "python3"
  },
  "language_info": {
   "codemirror_mode": {
    "name": "ipython",
    "version": 3
   },
   "file_extension": ".py",
   "mimetype": "text/x-python",
   "name": "python",
   "nbconvert_exporter": "python",
   "pygments_lexer": "ipython3",
   "version": "3.9.7"
  },
  "orig_nbformat": 4,
  "vscode": {
   "interpreter": {
    "hash": "d9e6c5917cb92f2228772da890d54b69f4841597561b3602d4b944c5867369b8"
   }
  }
 },
 "nbformat": 4,
 "nbformat_minor": 2
}
